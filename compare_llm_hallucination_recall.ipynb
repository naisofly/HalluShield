{
  "nbformat": 4,
  "nbformat_minor": 0,
  "metadata": {
    "colab": {
      "provenance": [],
      "gpuType": "T4",
      "private_outputs": true,
      "authorship_tag": "ABX9TyOi48pK7jIMag4vhh1zWVCN",
      "include_colab_link": true
    },
    "kernelspec": {
      "name": "python3",
      "display_name": "Python 3"
    },
    "language_info": {
      "name": "python"
    },
    "accelerator": "GPU"
  },
  "cells": [
    {
      "cell_type": "markdown",
      "metadata": {
        "id": "view-in-github",
        "colab_type": "text"
      },
      "source": [
        "<a href=\"https://colab.research.google.com/github/naisofly/HalluShield/blob/main/compare_llm_hallucination_recall.ipynb\" target=\"_parent\"><img src=\"https://colab.research.google.com/assets/colab-badge.svg\" alt=\"Open In Colab\"/></a>"
      ]
    },
    {
      "cell_type": "code",
      "source": [
        "!pip install transformers datasets pandas torch"
      ],
      "metadata": {
        "id": "oFC9SZQXA9zn"
      },
      "execution_count": null,
      "outputs": []
    },
    {
      "cell_type": "code",
      "execution_count": null,
      "metadata": {
        "id": "h-dAafy7AR7x"
      },
      "outputs": [],
      "source": [
        "# Import necessary libraries\n",
        "import os\n",
        "from datasets import load_dataset\n",
        "import pandas as pd\n",
        "\n",
        "# ----------------------------\n",
        "# GPU Setup in Google Colab\n",
        "# ----------------------------\n",
        "\n",
        "# Verify GPU availability\n",
        "import torch\n",
        "print(\"PyTorch version:\", torch.__version__)  # Should show >=\n",
        "print(\"CUDA available:\", torch.cuda.is_available())\n",
        "\n",
        "# ----------------------------\n",
        "# Hugging Face Authentication\n",
        "# ----------------------------\n",
        "\n",
        "# Hugging Face authentication - replace with your token\n",
        "HF_TOKEN = \"ADD_YOUR_HUGGINGFACE_TOKEN_HERE\"  # Get from https://huggingface.co/settings/tokens\n",
        "os.environ[\"HF_TOKEN\"] = HF_TOKEN  # Set as environment variable\n",
        "\n",
        "from transformers import pipeline"
      ]
    },
    {
      "cell_type": "markdown",
      "source": [
        "### 1: Load the MedHallu dataset"
      ],
      "metadata": {
        "id": "EUBwuQj3BUjM"
      }
    },
    {
      "cell_type": "code",
      "source": [
        "# The dataset contains medical questions, hallucinated answers, and ground truth answers.\n",
        "ds = load_dataset(\"UTAustin-AIHealth/MedHallu\", \"pqa_labeled\")\n",
        "df = ds['train'].to_pandas()"
      ],
      "metadata": {
        "id": "Q-7mjj5_A0f6"
      },
      "execution_count": null,
      "outputs": []
    },
    {
      "cell_type": "markdown",
      "source": [
        "### 2. Create new test dataset from Hard Hallucinations"
      ],
      "metadata": {
        "id": "NVuwkQy5Bdxy"
      }
    },
    {
      "cell_type": "code",
      "source": [
        "# Focus on challenging cases where hallucinations are harder to detect\n",
        "hard_hallucinations = df[df['Difficulty Level'] == 'hard']\n",
        "print(f\"Number of hard hallucination entries: {len(hard_hallucinations)}\")\n",
        "\n",
        "# ----------------------------\n",
        "# Creating Mixed Test Dataset\n",
        "# ----------------------------\n",
        "\n",
        "# Sample equal number of ground truth and hallucinated answers\n",
        "num_samples = len(hard_hallucinations) // 2\n",
        "ground_truth_samples = hard_hallucinations.sample(n=num_samples, random_state=42).copy()  # Ground truth answers\n",
        "hallucination_samples = hard_hallucinations.sample(n=num_samples, random_state=84).copy() # Hallucinated answers\n",
        "\n",
        "# Create 'answer' column with ground truth and hallucinated answers\n",
        "ground_truth_samples['answer'] = ground_truth_samples['Ground Truth']\n",
        "hallucination_samples['answer'] = hallucination_samples['Hallucinated Answer']\n",
        "\n",
        "# Assign labels\n",
        "ground_truth_samples['label'] = 'non-hallucination'\n",
        "hallucination_samples['label'] = 'hallucination'\n",
        "\n",
        "# Combine into a single DataFrame\n",
        "test_df = pd.concat([ground_truth_samples, hallucination_samples])\n",
        "\n",
        "# Shuffle the dataset\n",
        "test_df = test_df.sample(frac=1, random_state=126).reset_index(drop=True)\n",
        "\n",
        "# Print new labels\n",
        "print(\"\\nLabel counts in new dataset:\")\n",
        "print(test_df['label'].value_counts())"
      ],
      "metadata": {
        "id": "N62iW9ysBcxB"
      },
      "execution_count": null,
      "outputs": []
    },
    {
      "cell_type": "markdown",
      "source": [
        "### 3: Initialize the LLMs to be evaluated"
      ],
      "metadata": {
        "id": "Adht7LyGBmxY"
      }
    },
    {
      "cell_type": "code",
      "source": [
        "gemma_model = pipeline(\n",
        "    \"text-generation\",\n",
        "    model=\"google/gemma-2-2b-it\",\n",
        "    token=HF_TOKEN,\n",
        "    device=\"cuda\",  # Use GPU for inference\n",
        "    torch_dtype=torch.float16  # Use mixed precision for faster inference\n",
        ")"
      ],
      "metadata": {
        "id": "cjGkchUnBp-z"
      },
      "execution_count": null,
      "outputs": []
    },
    {
      "cell_type": "markdown",
      "source": [
        "### 4: Define system and user prompts for hallucination detection"
      ],
      "metadata": {
        "id": "bH3rjXTSMpOa"
      }
    },
    {
      "cell_type": "code",
      "source": [
        "# ----------------------------\n",
        "# Define Prompt Templates and Batch Processing Function\n",
        "# ----------------------------\n",
        "\n",
        "system_prompt = \"\"\"You are a hallucination checker for medical Q&A.\n",
        "Check if answers contain factual inaccuracies. Respond ONLY with 'Yes' or 'No'.\"\"\"\n",
        "\n",
        "def generate_user_prompt(question, answer, context):\n",
        "    \"\"\"\n",
        "    Generate user prompt from question, answer, and context.\n",
        "    \"\"\"\n",
        "    return f\"{system_prompt}\\nContext: {context}\\nQuestion: {question}\\nAnswer: {answer}\"\n",
        "\n",
        "def evaluate_model(test_df, model, batch_size=32):\n",
        "    \"\"\"\n",
        "    Evaluate the model on the provided test dataset in batches.\n",
        "    \"\"\"\n",
        "    results = []\n",
        "    for i in range(0, len(test_df), batch_size):\n",
        "        batch = test_df.iloc[i:i+batch_size]\n",
        "        prompts = [generate_user_prompt(row['Question'], row['answer'], row['Ground Truth']) for _, row in batch.iterrows()]\n",
        "\n",
        "        # Generate responses for the batch\n",
        "        responses = model(prompts, max_new_tokens=2, do_sample=False, temperature=0.0)\n",
        "        model_responses = [\"Yes\" if \"yes\" in res[0]['generated_text'].lower() else \"No\" for res in responses]\n",
        "\n",
        "        for idx, row in batch.iterrows():\n",
        "            model_response = model_responses[idx % batch_size]\n",
        "            # Determine if the model's response is correct\n",
        "            is_correct = (\n",
        "                (row['label'] == 'hallucination' and model_response == 'Yes') or\n",
        "                (row['label'] == 'non-hallucination' and model_response == 'No')\n",
        "            )\n",
        "\n",
        "            results.append({\n",
        "                \"Question\": row[\"Question\"],\n",
        "                \"Answer\": row[\"answer\"],\n",
        "                \"Label\": row[\"label\"],\n",
        "                \"Model Response\": model_response,\n",
        "                \"Correct Flagging\": is_correct,\n",
        "                \"Ground Truth Annotation\": row[\"Ground Truth\"] # For reference only\n",
        "            })\n",
        "\n",
        "    return pd.DataFrame(results)"
      ],
      "metadata": {
        "id": "90yiCJNhC3qr"
      },
      "execution_count": null,
      "outputs": []
    },
    {
      "cell_type": "markdown",
      "source": [
        "### 5. Evaluate Model on Hard Hallucinations"
      ],
      "metadata": {
        "id": "knMtFXeyM7wG"
      }
    },
    {
      "cell_type": "code",
      "source": [
        "# ----------------------------\n",
        "# Evaluate Model Using Batches\n",
        "# ----------------------------\n",
        "\n",
        "results_df = evaluate_model(test_df, gemma_model)"
      ],
      "metadata": {
        "id": "gYCIIJyYM-eI"
      },
      "execution_count": null,
      "outputs": []
    },
    {
      "cell_type": "markdown",
      "source": [
        "### 6. Calculate Recall Scores"
      ],
      "metadata": {
        "id": "GzTyiHYEarFU"
      }
    },
    {
      "cell_type": "code",
      "source": [
        "# ----------------------------\n",
        "# Performance Analysis and Results Saving\n",
        "# ----------------------------\n",
        "\n",
        "print(\"\\n6. Analyzing performance...\")\n",
        "# Calculate recall and precision for hallucination detection\n",
        "true_positives = len(results_df[(results_df['Label'] == 'hallucination') & (results_df['Model Response'] == 'Yes')])\n",
        "false_positives = len(results_df[(results_df['Label'] == 'non-hallucination') & (results_df['Model Response'] == 'Yes')])\n",
        "false_negatives = len(results_df[(results_df['Label'] == 'hallucination') & (results_df['Model Response'] == 'No')])\n",
        "\n",
        "# Calculate metrics\n",
        "recall = true_positives / (true_positives + false_negatives) if (true_positives + false_negatives) > 0 else 0\n",
        "precision = true_positives / (true_positives + false_positives) if (true_positives + false_positives) > 0 else 0\n",
        "\n",
        "print(f\"Recall: {recall:.2f}\")\n",
        "print(f\"Precision: {precision:.2f}\")\n",
        "\n",
        "# Save results to CSV\n",
        "print(\"\\nSaving results to CSV...\")\n",
        "results_df.to_csv(\"gemma_hallucination_results.csv\", index=False)\n",
        "print(\"Results saved successfully!\")\n",
        "\n",
        "print(\"\\nPreview of Results:\")\n",
        "print(results_df.head())"
      ],
      "metadata": {
        "id": "bQscZokONjy_"
      },
      "execution_count": null,
      "outputs": []
    }
  ]
}