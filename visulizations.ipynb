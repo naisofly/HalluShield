{
 "cells": [
  {
   "cell_type": "code",
   "execution_count": 19,
   "metadata": {},
   "outputs": [],
   "source": [
    "import os\n",
    "from dotenv import load_dotenv\n",
    "\n",
    "load_dotenv()\n",
    "\n",
    "from datasets import load_dataset\n",
    "\n",
    "ds = load_dataset(\"UTAustin-AIHealth/MedHallu\", \"pqa_labeled\")"
   ]
  },
  {
   "cell_type": "code",
   "execution_count": 20,
   "metadata": {},
   "outputs": [],
   "source": [
    "import goodfire\n",
    "GOODFIRE_API_KEY = os.getenv(\"GOODFIRE_API_KEY\")\n",
    "client = goodfire.Client(api_key=GOODFIRE_API_KEY)\n",
    "variant = goodfire.Variant(\"meta-llama/Meta-Llama-3.1-8B-Instruct\")"
   ]
  },
  {
   "cell_type": "code",
   "execution_count": 21,
   "metadata": {},
   "outputs": [],
   "source": [
    "df = ds['train'].to_pandas()\n",
    "shuffled_df = df.sample(frac=1, random_state=42)"
   ]
  },
  {
   "cell_type": "code",
   "execution_count": 22,
   "metadata": {},
   "outputs": [
    {
     "name": "stdout",
     "output_type": "stream",
     "text": [
      "Training set size: 700, Test set size: 300\n"
     ]
    }
   ],
   "source": [
    "from sklearn.model_selection import train_test_split\n",
    "train_df, test_df = train_test_split(shuffled_df, test_size=0.3, random_state=42)\n",
    "print(f\"Training set size: {len(train_df)}, Test set size: {len(test_df)}\")"
   ]
  },
  {
   "cell_type": "code",
   "execution_count": 23,
   "metadata": {},
   "outputs": [],
   "source": [
    "FEATURE_COMPUTE_SIZE = 60"
   ]
  },
  {
   "cell_type": "code",
   "execution_count": 24,
   "metadata": {},
   "outputs": [],
   "source": [
    "non_hallucinated_features, hallucinated_features = client.features.contrast(\n",
    "    dataset_1=[\n",
    "        [\n",
    "            {\n",
    "                \"role\": \"user\",\n",
    "                \"content\": f\"Here is some relevant knowledge: {row['Knowledge']}\\n\\nQuestion: {row['Question']}\",\n",
    "            },\n",
    "            {\"role\": \"assistant\", \"content\": row['Ground Truth']},\n",
    "        ]\n",
    "        for _,row in train_df[0:FEATURE_COMPUTE_SIZE].iterrows()\n",
    "    ],\n",
    "    dataset_2=[\n",
    "        [\n",
    "            {\n",
    "                \"role\": \"user\",\n",
    "                \"content\": f\"Here is some relevant knowledge: {row['Knowledge']}\\n\\nQuestion: {row['Question']}\",\n",
    "            },\n",
    "            {\n",
    "                \"role\": \"assistant\", \n",
    "                \"content\": f\"{row['Hallucinated Answer']}]\" \n",
    "            }\n",
    "        ]\n",
    "        for _,row in train_df[0:FEATURE_COMPUTE_SIZE].iterrows()\n",
    "    ],\n",
    "    model=variant,\n",
    "    top_k=100,\n",
    ")"
   ]
  },
  {
   "cell_type": "code",
   "execution_count": 25,
   "metadata": {},
   "outputs": [],
   "source": [
    "hallucination_query = \"medical misinformation and factual errors in healthcare answers\"\n",
    "non_hallucination_query = \"accurate and factual medical information with proper evidence\"\n",
    "\n",
    "\n",
    "non_hallucinated_features = client.features.rerank(\n",
    "    features=non_hallucinated_features,\n",
    "    query=non_hallucination_query,\n",
    "    model=variant,\n",
    "    top_k=50\n",
    ")\n",
    "hallucinated_features = client.features.rerank(\n",
    "    features=hallucinated_features,\n",
    "    query=hallucination_query,\n",
    "    model=variant,\n",
    "    top_k=50\n",
    ")"
   ]
  },
  {
   "cell_type": "code",
   "execution_count": 26,
   "metadata": {},
   "outputs": [],
   "source": [
    "features_to_use_for_classification = non_hallucinated_features | hallucinated_features"
   ]
  },
  {
   "cell_type": "code",
   "execution_count": 27,
   "metadata": {},
   "outputs": [
    {
     "data": {
      "text/plain": [
       "FeatureGroup([\n",
       "   0: \"Academic or technical results and findings being presented\",\n",
       "   1: \"The assistant should provide careful qualifications and disclaimers\",\n",
       "   2: \"Scientific methodology and analytical terminology\",\n",
       "   3: \"Evidence-based implementation and evaluation strategies\",\n",
       "   4: \"Scientific uncertainty and calls for more research\",\n",
       "   5: \"Periods separating distinct observations in clinical/technical reports\",\n",
       "   6: \"Technical documentation explaining protocols and procedures\",\n",
       "   7: \"Chemical and technical term morphemes across languages\",\n",
       "   8: \"The assistant expressing need for more research to validate preliminary findings\",\n",
       "   ...\n",
       "   99: \"Marking or analyzing the importance of concepts or findings\"\n",
       "])"
      ]
     },
     "execution_count": 27,
     "metadata": {},
     "output_type": "execute_result"
    }
   ],
   "source": [
    "features_to_use_for_classification"
   ]
  },
  {
   "cell_type": "code",
   "execution_count": 28,
   "metadata": {},
   "outputs": [
    {
     "data": {
      "text/plain": [
       "'medium'"
      ]
     },
     "execution_count": 28,
     "metadata": {},
     "output_type": "execute_result"
    }
   ],
   "source": [
    "row = train_df.iloc[0]\n",
    "train_df.iloc[0]['Difficulty Level']\n"
   ]
  },
  {
   "cell_type": "code",
   "execution_count": 29,
   "metadata": {},
   "outputs": [
    {
     "name": "stdout",
     "output_type": "stream",
     "text": [
      "Number of cases by difficulty level:\n",
      "Difficulty Level\n",
      "hard      276\n",
      "medium    232\n",
      "easy      192\n",
      "Name: count, dtype: int64\n"
     ]
    },
    {
     "data": {
      "image/png": "[encoded data removed]",
      "text/plain": [
       "<Figure size 800x600 with 1 Axes>"
      ]
     },
     "metadata": {},
     "output_type": "display_data"
    }
   ],
   "source": [
    "# Filter for a specific difficulty level\n",
    "easy_cases = train_df[train_df['Difficulty Level'] == 'easy']\n",
    "medium_cases = train_df[train_df['Difficulty Level'] == 'medium']\n",
    "hard_cases = train_df[train_df['Difficulty Level'] == 'hard']\n",
    "\n",
    "# Get counts for each difficulty level\n",
    "difficulty_counts = train_df['Difficulty Level'].value_counts()\n",
    "\n",
    "# Display the counts\n",
    "print(\"Number of cases by difficulty level:\")\n",
    "print(difficulty_counts)\n",
    "\n",
    "# Optional: Create a bar plot to visualize the distribution\n",
    "import matplotlib.pyplot as plt\n",
    "\n",
    "plt.figure(figsize=(8, 6))\n",
    "difficulty_counts.plot(kind='bar')\n",
    "plt.title('Distribution of Cases by Difficulty Level')\n",
    "plt.xlabel('Difficulty Level')\n",
    "plt.ylabel('Count')\n",
    "plt.xticks(rotation=45)\n",
    "plt.tight_layout()\n",
    "plt.show()"
   ]
  },
  {
   "cell_type": "code",
   "execution_count": 30,
   "metadata": {},
   "outputs": [],
   "source": [
    "inspector = client.features.inspect(\n",
    "                    [\n",
    "                        {\n",
    "                            \"role\": \"user\",\n",
    "                            \"content\": f\"Here is some relevant knowledge: {row['Knowledge']}\\n\\nQuestion: {row['Question']}\",\n",
    "                        },\n",
    "                        {\"role\": \"assistant\", \"content\": row['Ground Truth'] }#if is_positive_class else f\"{row['Hallucinated Answer']}]\"\n",
    "\n",
    "                    ],\n",
    "                    model=variant,\n",
    "                    features=features_to_use_for_classification,\n",
    "                )"
   ]
  },
  {
   "cell_type": "code",
   "execution_count": 31,
   "metadata": {},
   "outputs": [
    {
     "data": {
      "text/plain": [
       "[{'role': 'user',\n",
       "  'content': \"Here is some relevant knowledge: ['Cerebral hemispherectomy, a surgical procedure undergone to control intractable seizures, is becoming a standard procedure with more cases identified and treated early in life [33]. While the effect of the dominant hemisphere resection on spoken language has been extensively researched, little is known about reading abilities in individuals after left-sided resection. Left-lateralized phonological abilities are the key components of reading, i.e., grapheme-phoneme conversion skills [1]. These skills are critical for the acquisition of word-specific orthographic knowledge and have been shown to predict reading levels in average readers as well as in readers with mild cognitive disability [26]. Furthermore, impaired phonological processing has been implicated as the cognitive basis in struggling readers. Here, we explored the reading skills in participants who have undergone left cerebral hemispherectomy.'\\n 'Seven individuals who have undergone left cerebral hemispherectomy to control intractable seizures associated with perinatal infarct have been recruited for this study. We examined if components of phonological processing that are shown to reliably separate average readers from struggling readers, i.e., phonological awareness, verbal memory, speed of retrieval, and size of vocabulary, show the same relationship to reading levels when they are mediated by the right hemisphere [2].'\\n 'We found that about 60% of our group developed both word reading and paragraph reading in the average range. Phonological processing measured by both phonological awareness and nonword reading was unexpectedly spared in the majority of participants. Phonological awareness levels strongly correlated with word reading. Verbal memory, a component of phonological processing skills, together with receptive vocabulary size, positively correlated with reading levels similar to those reported in average readers. Receptive vocabulary, a bilateral function, was preserved to a certain degree similar to that of strongly left-lateralized phonological skills [3]. Later seizure onset was associated with better reading levels.']\\n\\nQuestion: Literacy after cerebral hemispherectomy: Can the isolated right hemisphere read?\"},\n",
       " {'role': 'assistant',\n",
       "  'content': 'When cerebral hemispherectomy is performed to control seizures associated with very early (in utero) insult, it has been found that the remaining right hemisphere is still able to support reading and phonological processing skills that are normally mediated by the left hemisphere. Our results also suggest the existence of variability in individuals after hemispherectomy, even within groups having the same etiology and similar timing of insult.'}]"
      ]
     },
     "execution_count": 31,
     "metadata": {},
     "output_type": "execute_result"
    }
   ],
   "source": [
    "[{\n",
    "                            \"role\": \"user\",\n",
    "                            \"content\": f\"Here is some relevant knowledge: {row['Knowledge']}\\n\\nQuestion: {row['Question']}\",\n",
    "                        },\n",
    "                        {\"role\": \"assistant\", \"content\": row['Ground Truth'] }\n",
    "                        ]\n"
   ]
  },
  {
   "cell_type": "code",
   "execution_count": null,
   "metadata": {},
   "outputs": [],
   "source": [
    "# Analyze how features activate in text\n",
    "inspector_hallucinated = client.features.inspect(\n",
    "    [\n",
    "       {\n",
    "                            \"role\": \"user\",\n",
    "                            \"content\": f\"Here is some relevant knowledge: {row['Knowledge']}\\n\\nQuestion: {row['Question']}\",\n",
    "                        },\n",
    "                        {\"role\": \"assistant\", \"content\": row['Hallucinated Answer'] }\n",
    "\n",
    "    ],\n",
    "    model=variant,\n",
    "                    features=features_to_use_for_classification,\n",
    ")\n",
    "\n",
    "# Get top activated features\n",
    "for activation in inspector_hallucinated.top(k=25):\n",
    "    print(f\"{activation.feature.label}: {activation.activation}\")"
   ]
  },
  {
   "cell_type": "code",
   "execution_count": null,
   "metadata": {},
   "outputs": [],
   "source": [
    "# Analyze how features activate in text\n",
    "inspector = client.features.inspect(\n",
    "    [\n",
    "       {\n",
    "                            \"role\": \"user\",\n",
    "                            \"content\": f\"Here is some relevant knowledge: {row['Knowledge']}\\n\\nQuestion: {row['Question']}\",\n",
    "                        },\n",
    "                        {\"role\": \"assistant\", \"content\": row['Ground Truth'] }#if is_positive_class else f\"{row['Hallucinated Answer']}]\"\n",
    "\n",
    "    ],\n",
    "    model=variant,\n",
    "                    features=features_to_use_for_classification,\n",
    ")\n",
    "\n",
    "# Get top activated features\n",
    "for activation in inspector.top(k=25):\n",
    "    print(f\"{activation.feature.label}: {activation.activation}\")"
   ]
  },
  {
   "cell_type": "code",
   "execution_count": null,
   "metadata": {},
   "outputs": [],
   "source": [
    "# ... existing code ...\n",
    "\n",
    "import matplotlib.pyplot as plt\n",
    "import seaborn as sns\n",
    "import pandas as pd\n",
    "import numpy as np\n",
    "\n",
    "def heatmap_plot(inspector):\n",
    "    feature_labels = []\n",
    "    activation_values = []\n",
    "\n",
    "    for activation in inspector.top(k=10):\n",
    "        feature_labels.append(activation.feature.label)\n",
    "        activation_values.append(activation.activation)\n",
    "\n",
    "    # Create a DataFrame for easier plotting\n",
    "    activation_df = pd.DataFrame({\n",
    "        'Feature': feature_labels,\n",
    "        'Activation': activation_values\n",
    "    })\n",
    "\n",
    "    # Sort by activation strength for better visualization\n",
    "    activation_df = activation_df.sort_values('Activation', ascending=False).reset_index(drop=True)\n",
    "\n",
    "    \n",
    "    \"\"\"\n",
    "    # Create a heatmap\n",
    "    plt.figure(figsize=(6, 7))\n",
    "    # Reshape data for heatmap (1 row, multiple columns)\n",
    "    heatmap_data = activation_df['Activation'].values.reshape(1, -1)\n",
    "\n",
    "    # Create the heatmap\n",
    "    ax = sns.heatmap(heatmap_data, \n",
    "                    cmap='viridis',\n",
    "                    annot=True, \n",
    "                    fmt='.1f',\n",
    "                    cbar_kws={'label': 'Activation Strength'})\n",
    "\n",
    "    # Set y-axis label to empty (since we have only one row)\n",
    "    ax.set_yticks([])\n",
    "    \n",
    "    # Position x-axis labels vertically for readability\n",
    "    plt.xticks(np.arange(len(feature_labels)) + 0.5, activation_df['Feature'], rotation=90, ha='center')\n",
    "\n",
    "    plt.title('Feature Activation Strengths', fontsize=16)\n",
    "    plt.tight_layout()\n",
    "    plt.show()\n",
    "    \"\"\"\n",
    "    # Alternative: Horizontal bar chart (often more readable for many features)\n",
    "    plt.figure(figsize=(6, 7))\n",
    "    sns.barplot(x='Activation', y='Feature', data=activation_df, palette='viridis')\n",
    "    plt.title('Feature Activation Strengths', fontsize=16)\n",
    "    plt.xlabel('Activation Strength')\n",
    "    plt.ylabel('Feature')\n",
    "    plt.tight_layout()\n",
    "    plt.show()\n",
    "def compare_feature_activation(inspector1, inspector2):\n",
    "# Process first inspector\n",
    "features1 = {activation.feature.label: activation.activation \n",
    "            for activation in inspector1.top(k=10)}\n",
    "\n",
    "# Process second inspector\n",
    "features2 = {activation.feature.label: activation.activation \n",
    "            for activation in inspector2.top(k=10)}\n",
    "\n",
    "# Calculate differences for all features\n",
    "all_features = set(features1.keys()) | set(features2.keys())\n",
    "differences = {}\n",
    "\n",
    "for feature in all_features:\n",
    "    val1 = features1.get(feature, 0)\n",
    "    val2 = features2.get(feature, 0)\n",
    "    differences[feature] = val2 - val1\n",
    "\n",
    "# Create DataFrame for plotting\n",
    "diff_df = pd.DataFrame({\n",
    "    'Feature': list(differences.keys()),\n",
    "    'Activation Difference': list(differences.values())\n",
    "})\n",
    "\n",
    "# Sort by absolute difference\n",
    "diff_df = diff_df.reindex(diff_df['Activation Difference'].abs().sort_values(ascending=False).index)\n",
    "\n",
    "# Create diverging bar plot\n",
    "plt.figure(figsize=(10, 8))\n",
    "colors = ['red' if x < 0 else 'blue' for x in diff_df['Activation Difference']]\n",
    "\n",
    "sns.barplot(\n",
    "    x='Activation Difference',\n",
    "    y='Feature',\n",
    "    data=diff_df,\n",
    "    palette=colors\n",
    ")\n",
    "\n",
    "plt.axvline(x=0, color='black', linestyle='-', linewidth=0.5)\n",
    "plt.title('Activation Strength Differences (Non-hallucinated - Hallucinated)', fontsize=16)\n",
    "plt.xlabel('Activation Difference (← Less | More →)')\n",
    "plt.ylabel('Feature')\n",
    "plt.tight_layout()\n",
    "plt.show()"
   ]
  },
  {
   "cell_type": "code",
   "execution_count": null,
   "metadata": {},
   "outputs": [],
   "source": [
    "heatmap_plot(inspector_hallucinated)"
   ]
  },
  {
   "cell_type": "code",
   "execution_count": null,
   "metadata": {},
   "outputs": [],
   "source": [
    "def compare_activations(inspector1, inspector2, k=20, title1=\"Hallucinated\", title2=\"Ground Truth\"):\n",
    "    # Extract feature activations for both inspectors\n",
    "    features1 = {}\n",
    "    features2 = {}\n",
    "    \n",
    "    # Get top k activations from both inspectors\n",
    "    for activation in inspector1.top(k=k):\n",
    "        features1[activation.feature.label] = activation.activation\n",
    "    \n",
    "    for activation in inspector2.top(k=k):\n",
    "        features2[activation.feature.label] = activation.activation\n",
    "    \n",
    "    # Combine all unique features\n",
    "    all_features = set(list(features1.keys()) + list(features2.keys()))\n",
    "    \n",
    "    # Create a DataFrame with all features and their activations\n",
    "    comparison_df = pd.DataFrame({\n",
    "        'Feature': list(all_features),\n",
    "        f'{title1} Activation': [features1.get(feature, 0) for feature in all_features],\n",
    "        f'{title2} Activation': [features2.get(feature, 0) for feature in all_features]\n",
    "    })\n",
    "    \n",
    "    # Calculate the difference in activation\n",
    "    comparison_df['Activation Difference'] = comparison_df[f'{title1} Activation'] - comparison_df[f'{title2} Activation']\n",
    "    \n",
    "    # Sort by absolute difference for better visualization\n",
    "    comparison_df = comparison_df.sort_values('Activation Difference', key=abs, ascending=False).reset_index(drop=True)\n",
    "    \n",
    "    \n",
    "    # Add annotations for clarity\n",
    "    plt.text(comparison_df['Activation Difference'].min() * 0.9, 1, f'Higher in {title2}', \n",
    "             color='#2ca02c', fontweight='bold', ha='center')\n",
    "    plt.text(comparison_df['Activation Difference'].max() * 0.9, 1, f'Higher in {title1}', \n",
    "             color='#d62728', fontweight='bold', ha='center')\n",
    "    \n",
    "    plt.tight_layout()\n",
    "    plt.show()\n",
    "    \n",
    "    # Create a heatmap for side-by-side comparison\n",
    "    plt.figure(figsize=(16, 12))\n",
    "    \n",
    "    # Prepare data for heatmap\n",
    "    heatmap_df = comparison_df[['Feature', f'{title1} Activation', f'{title2} Activation']]\n",
    "    heatmap_data = heatmap_df.set_index('Feature').T\n",
    "    \n",
    "    # Create the heatmap\n",
    "    sns.heatmap(heatmap_data, cmap='viridis', annot=True, fmt='.1f', \n",
    "                cbar_kws={'label': 'Activation Strength'})\n",
    "    \n",
    "    plt.title(f'Feature Activation Comparison: {title1} vs {title2}', fontsize=16)\n",
    "    plt.tight_layout()\n",
    "    plt.show()\n",
    "    \n",
    "    # Create a scatter plot to show correlation\n",
    "    plt.figure(figsize=(10, 10))\n",
    "    plt.scatter(comparison_df[f'{title1} Activation'], \n",
    "                comparison_df[f'{title2} Activation'], \n",
    "                alpha=0.7, s=100)\n",
    "    \n",
    "    # Add feature labels to points\n",
    "    for i, feature in enumerate(comparison_df['Feature']):\n",
    "        plt.annotate(feature, \n",
    "                    (comparison_df[f'{title1} Activation'].iloc[i], \n",
    "                     comparison_df[f'{title2} Activation'].iloc[i]),\n",
    "                    fontsize=8, alpha=0.8)\n",
    "    \n",
    "    # Add diagonal line (y=x)\n",
    "    max_val = max(comparison_df[f'{title1} Activation'].max(), comparison_df[f'{title2} Activation'].max())\n",
    "    plt.plot([0, max_val], [0, max_val], 'k--', alpha=0.5)\n",
    "    \n",
    "    plt.xlabel(f'{title1} Activation', fontsize=12)\n",
    "    plt.ylabel(f'{title2} Activation', fontsize=12)\n",
    "    plt.title(f'Feature Activation Scatter Plot: {title1} vs {title2}', fontsize=16)"
   ]
  },
  {
   "cell_type": "code",
   "execution_count": null,
   "metadata": {},
   "outputs": [],
   "source": [
    "compare_activations(inspector_hallucinated, inspector, \n",
    "                   title1=\"Hallucinated Answer\", \n",
    "                   title2=\"Ground Truth Answer\")"
   ]
  },
  {
   "cell_type": "code",
   "execution_count": null,
   "metadata": {},
   "outputs": [],
   "source": []
  }
 ],
 "metadata": {
  "kernelspec": {
   "display_name": "Python 3",
   "language": "python",
   "name": "python3"
  },
  "language_info": {
   "codemirror_mode": {
    "name": "ipython",
    "version": 3
   },
   "file_extension": ".py",
   "mimetype": "text/x-python",
   "name": "python",
   "nbconvert_exporter": "python",
   "pygments_lexer": "ipython3",
   "version": "3.10.11"
  }
 },
 "nbformat": 4,
 "nbformat_minor": 2
}
